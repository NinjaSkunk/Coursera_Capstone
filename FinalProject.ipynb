{
 "cells": [
  {
   "cell_type": "code",
   "execution_count": 150,
   "metadata": {},
   "outputs": [],
   "source": [
    "from sklearn.cluster import KMeans\n",
    "import numpy as np\n",
    "import pandas as pd"
   ]
  },
  {
   "cell_type": "code",
   "execution_count": 151,
   "metadata": {},
   "outputs": [],
   "source": [
    "X = np.array([[1, 2], [1, 4], [1, 0],\n",
    "[10, 2], [1, 4], [10, 0]]) ## testing"
   ]
  },
  {
   "cell_type": "code",
   "execution_count": 152,
   "metadata": {},
   "outputs": [],
   "source": [
    "kmeans = KMeans(n_clusters=3, random_state=0).fit(X)"
   ]
  },
  {
   "cell_type": "code",
   "execution_count": 153,
   "metadata": {},
   "outputs": [
    {
     "data": {
      "text/plain": [
       "array([0, 2, 0, 1, 2, 1], dtype=int32)"
      ]
     },
     "execution_count": 153,
     "metadata": {},
     "output_type": "execute_result"
    }
   ],
   "source": [
    "kmeans.labels_"
   ]
  },
  {
   "cell_type": "code",
   "execution_count": 154,
   "metadata": {},
   "outputs": [],
   "source": [
    "## Here we have two cities LA and NY which can be changed but we will use this in my example\n",
    "# My program intends to help a user decide which city is better to move to based on the food, entertainment,\n",
    "# and shopping experience.\n",
    "# A new city will be inputted and my program will cluster that new city to be more similar to LA or NY in this example.\n",
    "## LA 34.0481° N, -118.2628° W\n",
    "## NY 40.7128° N, 74.0060° W\n",
    "\n"
   ]
  },
  {
   "cell_type": "code",
   "execution_count": 155,
   "metadata": {},
   "outputs": [],
   "source": [
    "### THE NEXT 8 BLOCKS OF THE NOTEBOOK ARE ME PULLING DATA FROM THE FOURSQUARE API\n",
    "# I AM GETTING INFO ABOUT THE CITY\n",
    "# Such as the entertainment and food\n",
    "import json, requests\n",
    "url = 'https://api.foursquare.com/v2/venues/search'\n",
    "\n",
    "params = dict(\n",
    "client_id='ADRDGSC2UTF3DZTQHPTEYBRHCEISJAAC041OXNURITQEEVIB',\n",
    "client_secret='5XEV1NU0UBZFRZ5F0EM5KHGUHYFFD3UNJBKXDOE2WVUMCONP',\n",
    "v='20180323',\n",
    "ll='34.0481, -118.2628', #change city location\n",
    "query='coffee',\n",
    "radius = '1000',\n",
    ")\n",
    "resp = requests.get(url=url, params=params)\n",
    "data = json.loads(resp.text)\n",
    "coffeenum = len(data[\"response\"][\"venues\"])"
   ]
  },
  {
   "cell_type": "code",
   "execution_count": 156,
   "metadata": {},
   "outputs": [],
   "source": [
    "params = dict(\n",
    "client_id='ADRDGSC2UTF3DZTQHPTEYBRHCEISJAAC041OXNURITQEEVIB',\n",
    "client_secret='5XEV1NU0UBZFRZ5F0EM5KHGUHYFFD3UNJBKXDOE2WVUMCONP',\n",
    "v='20180323',\n",
    "ll='34.0481, -118.2628', #change city location\n",
    "query='grocery',\n",
    "radius = '1000',\n",
    ")\n",
    "resp = requests.get(url=url, params=params)\n",
    "data = json.loads(resp.text)\n",
    "grocerynum = len(data[\"response\"][\"venues\"])"
   ]
  },
  {
   "cell_type": "code",
   "execution_count": 157,
   "metadata": {},
   "outputs": [],
   "source": [
    "params = dict(\n",
    "client_id='ADRDGSC2UTF3DZTQHPTEYBRHCEISJAAC041OXNURITQEEVIB',\n",
    "client_secret='5XEV1NU0UBZFRZ5F0EM5KHGUHYFFD3UNJBKXDOE2WVUMCONP',\n",
    "v='20180323',\n",
    "ll='34.0481, -118.2628', #change city location\n",
    "query='entertainment',\n",
    "radius = '1000',\n",
    ")\n",
    "resp = requests.get(url=url, params=params)\n",
    "data = json.loads(resp.text)\n",
    "funnum = len(data[\"response\"][\"venues\"])"
   ]
  },
  {
   "cell_type": "code",
   "execution_count": 158,
   "metadata": {},
   "outputs": [
    {
     "data": {
      "text/plain": [
       "array([[30,  4, 22],\n",
       "       [ 0,  0,  0]])"
      ]
     },
     "execution_count": 158,
     "metadata": {},
     "output_type": "execute_result"
    }
   ],
   "source": [
    "d = {'la': [coffeenum, grocerynum, funnum]}\n",
    "\n",
    "X = np.array([[coffeenum, grocerynum, funnum], [0, 0, 0]])\n",
    "X\n"
   ]
  },
  {
   "cell_type": "code",
   "execution_count": 159,
   "metadata": {},
   "outputs": [],
   "source": [
    "#X[1,0] = coffeenum\n",
    "#X"
   ]
  },
  {
   "cell_type": "code",
   "execution_count": 160,
   "metadata": {},
   "outputs": [
    {
     "data": {
      "text/plain": [
       "30"
      ]
     },
     "execution_count": 160,
     "metadata": {},
     "output_type": "execute_result"
    }
   ],
   "source": [
    "params = dict(\n",
    "client_id='ADRDGSC2UTF3DZTQHPTEYBRHCEISJAAC041OXNURITQEEVIB',\n",
    "client_secret='5XEV1NU0UBZFRZ5F0EM5KHGUHYFFD3UNJBKXDOE2WVUMCONP',\n",
    "v='20180323',\n",
    "ll='40.7088, -74.0126', #change city location\n",
    "query='coffee',\n",
    "radius = '1000',\n",
    ")\n",
    "resp = requests.get(url=url, params=params)\n",
    "data = json.loads(resp.text)\n",
    "coffeenum = len(data[\"response\"][\"venues\"])\n",
    "coffeenum"
   ]
  },
  {
   "cell_type": "code",
   "execution_count": 161,
   "metadata": {},
   "outputs": [
    {
     "data": {
      "text/plain": [
       "0"
      ]
     },
     "execution_count": 161,
     "metadata": {},
     "output_type": "execute_result"
    }
   ],
   "source": [
    "params = dict(\n",
    "client_id='ADRDGSC2UTF3DZTQHPTEYBRHCEISJAAC041OXNURITQEEVIB',\n",
    "client_secret='5XEV1NU0UBZFRZ5F0EM5KHGUHYFFD3UNJBKXDOE2WVUMCONP',\n",
    "v='20180323',\n",
    "ll='40.7128, 74.0060', #change city location\n",
    "query='grocery',\n",
    "radius = '1000',\n",
    ")\n",
    "resp = requests.get(url=url, params=params)\n",
    "data = json.loads(resp.text)\n",
    "grocerynum = len(data[\"response\"][\"venues\"])\n",
    "grocerynum"
   ]
  },
  {
   "cell_type": "code",
   "execution_count": 162,
   "metadata": {},
   "outputs": [
    {
     "data": {
      "text/plain": [
       "0"
      ]
     },
     "execution_count": 162,
     "metadata": {},
     "output_type": "execute_result"
    }
   ],
   "source": [
    "params = dict(\n",
    "client_id='ADRDGSC2UTF3DZTQHPTEYBRHCEISJAAC041OXNURITQEEVIB',\n",
    "client_secret='5XEV1NU0UBZFRZ5F0EM5KHGUHYFFD3UNJBKXDOE2WVUMCONP',\n",
    "v='20180323',\n",
    "ll='40.7128, 74.0060', #change city location\n",
    "query='entertainment',\n",
    "radius = '1000',\n",
    ")\n",
    "resp = requests.get(url=url, params=params)\n",
    "data = json.loads(resp.text)\n",
    "funnum = len(data[\"response\"][\"venues\"])\n",
    "funnum"
   ]
  },
  {
   "cell_type": "code",
   "execution_count": 163,
   "metadata": {},
   "outputs": [
    {
     "data": {
      "text/plain": [
       "array([[30,  4, 22],\n",
       "       [30,  0,  0]])"
      ]
     },
     "execution_count": 163,
     "metadata": {},
     "output_type": "execute_result"
    }
   ],
   "source": [
    "X[1,0] = coffeenum\n",
    "X[1,1] = grocerynum\n",
    "X[1,2] = funnum\n",
    "X"
   ]
  },
  {
   "cell_type": "code",
   "execution_count": 164,
   "metadata": {},
   "outputs": [],
   "source": [
    "# I train my model based on the two cities that are to be compared to, NY and LA\n",
    "kmeans = KMeans(n_clusters=2, random_state=0).fit(X)\n"
   ]
  },
  {
   "cell_type": "code",
   "execution_count": 165,
   "metadata": {},
   "outputs": [
    {
     "data": {
      "text/plain": [
       "array([0, 1], dtype=int32)"
      ]
     },
     "execution_count": 165,
     "metadata": {},
     "output_type": "execute_result"
    }
   ],
   "source": [
    "kmeans.labels_\n",
    "# 0 means it is more like LA\n",
    "# 1 means it is more like NY"
   ]
  },
  {
   "cell_type": "code",
   "execution_count": 166,
   "metadata": {},
   "outputs": [
    {
     "data": {
      "text/plain": [
       "array([0, 1], dtype=int32)"
      ]
     },
     "execution_count": 166,
     "metadata": {},
     "output_type": "execute_result"
    }
   ],
   "source": [
    "#test_set = {'test': [30, 4, 22]}\n",
    "#test_set = pd.DataFrame(data = test_set)\n",
    "array = np.array([[30,4,22], [30,0,9]])\n",
    "kmeans.predict(array)\n",
    "# The first city is more like LA and the second is more like NY"
   ]
  }
 ],
 "metadata": {
  "kernelspec": {
   "display_name": "Python 3",
   "language": "python",
   "name": "python3"
  },
  "language_info": {
   "codemirror_mode": {
    "name": "ipython",
    "version": 3
   },
   "file_extension": ".py",
   "mimetype": "text/x-python",
   "name": "python",
   "nbconvert_exporter": "python",
   "pygments_lexer": "ipython3",
   "version": "3.6.5"
  }
 },
 "nbformat": 4,
 "nbformat_minor": 2
}
