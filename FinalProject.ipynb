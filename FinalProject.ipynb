{
 "cells": [
  {
   "cell_type": "code",
   "execution_count": 1,
   "metadata": {},
   "outputs": [],
   "source": [
    "from sklearn.cluster import KMeans\n",
    "import numpy as np\n",
    "import pandas as pd"
   ]
  },
  {
   "cell_type": "code",
   "execution_count": 2,
   "metadata": {},
   "outputs": [],
   "source": [
    "#X = np.array([[1, 2], [1, 4], [1, 0],\n",
    "#[10, 2], [1, 4], [10, 0]]) ## testing"
   ]
  },
  {
   "cell_type": "code",
   "execution_count": 3,
   "metadata": {},
   "outputs": [],
   "source": [
    "#kmeans = KMeans(n_clusters=3, random_state=0).fit(X)"
   ]
  },
  {
   "cell_type": "code",
   "execution_count": 4,
   "metadata": {},
   "outputs": [
    {
     "data": {
      "text/plain": [
       "array([0, 2, 0, 1, 2, 1], dtype=int32)"
      ]
     },
     "execution_count": 4,
     "metadata": {},
     "output_type": "execute_result"
    }
   ],
   "source": [
    "#kmeans.labels_"
   ]
  },
  {
   "cell_type": "code",
   "execution_count": 49,
   "metadata": {},
   "outputs": [
    {
     "name": "stdout",
     "output_type": "stream",
     "text": [
      "Enter City 1 : (Format = Latitude, Longitude)34.0481, -118.2628\n"
     ]
    }
   ],
   "source": [
    "## Here we have two cities LA and NY which can be changed but we will use this in my example\n",
    "# My program intends to help a user decide which city is better to move to based on the food, entertainment,\n",
    "# and shopping experience.\n",
    "# A new city will be inputted and my program will cluster that new city to be more similar to LA or NY in this example.\n",
    "## LA 34.0481° N, -118.2628° W Staples Center\n",
    "## NY 40.7128° N, 74.0060° W Times Square\n",
    "## Mtv View Downtown 37.389031, -122.082848 \n",
    "# Enter 3 Coordinates of Cities you have been to and know well\n",
    "g = input(\"Enter City 1 : (Format = Latitude, Longitude)\") \n"
   ]
  },
  {
   "cell_type": "code",
   "execution_count": 45,
   "metadata": {},
   "outputs": [
    {
     "name": "stdout",
     "output_type": "stream",
     "text": [
      "Enter City 2 : (Format = Latitude, Longitude)40.757344, -73.985456\n"
     ]
    }
   ],
   "source": [
    "g2 = input(\"Enter City 2 : (Format = Latitude, Longitude)\") \n"
   ]
  },
  {
   "cell_type": "code",
   "execution_count": 41,
   "metadata": {},
   "outputs": [
    {
     "name": "stdout",
     "output_type": "stream",
     "text": [
      "Enter City 3 : (Format = Latitude, Longitude)37.389031, -122.082848\n"
     ]
    }
   ],
   "source": [
    "g3 = input(\"Enter City 3 : (Format = Latitude, Longitude)\") "
   ]
  },
  {
   "cell_type": "code",
   "execution_count": 46,
   "metadata": {},
   "outputs": [
    {
     "data": {
      "text/plain": [
       "'37.389031, -122.082848'"
      ]
     },
     "execution_count": 46,
     "metadata": {},
     "output_type": "execute_result"
    }
   ],
   "source": [
    "g3"
   ]
  },
  {
   "cell_type": "code",
   "execution_count": 47,
   "metadata": {},
   "outputs": [
    {
     "data": {
      "text/plain": [
       "array([[0, 0, 0, 0],\n",
       "       [0, 0, 0, 0],\n",
       "       [0, 0, 0, 0]])"
      ]
     },
     "execution_count": 47,
     "metadata": {},
     "output_type": "execute_result"
    }
   ],
   "source": [
    "X = np.array([[0,0,0,0], [0, 0, 0, 0], [0,0,0,0]])\n",
    "X"
   ]
  },
  {
   "cell_type": "code",
   "execution_count": 50,
   "metadata": {},
   "outputs": [
    {
     "data": {
      "text/plain": [
       "array([[50,  4, 29, 50],\n",
       "       [50, 50, 50, 50],\n",
       "       [15,  1,  0, 14]])"
      ]
     },
     "execution_count": 50,
     "metadata": {},
     "output_type": "execute_result"
    }
   ],
   "source": [
    "### THE NEXT 8 BLOCKS OF THE NOTEBOOK ARE ME PULLING DATA FROM THE FOURSQUARE API\n",
    "# I AM GETTING INFO ABOUT THE CITY\n",
    "# Such as the entertainment and food\n",
    "import json, requests\n",
    "url = 'https://api.foursquare.com/v2/venues/search'\n",
    "loc_list = [g,g2,g3]\n",
    "stats = [\"coffee\",\"grocery\",\"entertainment\", \"food\"]\n",
    "city_num = 0\n",
    "index = 0\n",
    "for j in loc_list:\n",
    "    for i in stats:\n",
    "        params = dict(\n",
    "        client_id='ADRDGSC2UTF3DZTQHPTEYBRHCEISJAAC041OXNURITQEEVIB',\n",
    "        client_secret='5XEV1NU0UBZFRZ5F0EM5KHGUHYFFD3UNJBKXDOE2WVUMCONP',\n",
    "        v='20180323',\n",
    "        ll= j, #change city location\n",
    "        query=i,\n",
    "        radius = '1500',\n",
    "        limit = '50'\n",
    "        )\n",
    "        resp = requests.get(url=url, params=params)\n",
    "        data = json.loads(resp.text)\n",
    "        X[city_num,index] = len(data[\"response\"][\"venues\"])\n",
    "        index += 1\n",
    "    index = 0\n",
    "    city_num += 1\n",
    "X"
   ]
  },
  {
   "cell_type": "code",
   "execution_count": 52,
   "metadata": {},
   "outputs": [],
   "source": [
    "# I train my model based on the two cities that are to be compared to, NY and LA\n",
    "kmeans = KMeans(n_clusters=3, random_state=0).fit(X)\n"
   ]
  },
  {
   "cell_type": "code",
   "execution_count": 61,
   "metadata": {},
   "outputs": [
    {
     "data": {
      "text/plain": [
       "array([0, 2, 1], dtype=int32)"
      ]
     },
     "execution_count": 61,
     "metadata": {},
     "output_type": "execute_result"
    }
   ],
   "source": [
    "kmeans.labels_\n",
    "# 0 means it is more like LA\n",
    "# 2 means it is more like NY\n",
    "# 1 means it is more like MtvView"
   ]
  },
  {
   "cell_type": "code",
   "execution_count": 54,
   "metadata": {},
   "outputs": [
    {
     "name": "stdout",
     "output_type": "stream",
     "text": [
      "Enter A City You Would Like To Compare To: (Format = Latitude, Longitude)37.334708, -121.891474\n"
     ]
    }
   ],
   "source": [
    "#San Jose 37.334708, -121.891474\n",
    "g4 = input(\"Enter A City You Would Like To Compare To: (Format = Latitude, Longitude)\") "
   ]
  },
  {
   "cell_type": "code",
   "execution_count": 59,
   "metadata": {},
   "outputs": [
    {
     "data": {
      "text/plain": [
       "array([[36,  5,  0, 36]])"
      ]
     },
     "execution_count": 59,
     "metadata": {},
     "output_type": "execute_result"
    }
   ],
   "source": [
    "stats = [\"coffee\",\"grocery\",\"entertainment\", \"food\"]\n",
    "cityToBeMatchedStats = np.array([[0,0,0,0]])\n",
    "index = 0\n",
    "for i in stats:        \n",
    "    params = dict(\n",
    "    client_id='ADRDGSC2UTF3DZTQHPTEYBRHCEISJAAC041OXNURITQEEVIB',\n",
    "    client_secret='5XEV1NU0UBZFRZ5F0EM5KHGUHYFFD3UNJBKXDOE2WVUMCONP',\n",
    "    v='20180323',\n",
    "    ll= g4, #change city location\n",
    "    query=i,\n",
    "    radius = '1500',\n",
    "    limit = '50'\n",
    "    )\n",
    "    resp = requests.get(url=url, params=params)\n",
    "    data = json.loads(resp.text)\n",
    "    cityToBeMatchedStats[0,index] = len(data[\"response\"][\"venues\"])\n",
    "    index += 1\n",
    "cityToBeMatchedStats"
   ]
  },
  {
   "cell_type": "code",
   "execution_count": 62,
   "metadata": {},
   "outputs": [
    {
     "data": {
      "text/plain": [
       "array([1], dtype=int32)"
      ]
     },
     "execution_count": 62,
     "metadata": {},
     "output_type": "execute_result"
    }
   ],
   "source": [
    "kmeans.predict(cityToBeMatchedStats)\n",
    "#San Jose is most like MtvView"
   ]
  },
  {
   "cell_type": "code",
   "execution_count": null,
   "metadata": {},
   "outputs": [],
   "source": []
  }
 ],
 "metadata": {
  "kernelspec": {
   "display_name": "Python 3",
   "language": "python",
   "name": "python3"
  },
  "language_info": {
   "codemirror_mode": {
    "name": "ipython",
    "version": 3
   },
   "file_extension": ".py",
   "mimetype": "text/x-python",
   "name": "python",
   "nbconvert_exporter": "python",
   "pygments_lexer": "ipython3",
   "version": "3.6.5"
  }
 },
 "nbformat": 4,
 "nbformat_minor": 2
}
